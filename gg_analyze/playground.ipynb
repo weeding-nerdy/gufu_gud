{
 "cells": [
  {
   "cell_type": "code",
   "execution_count": null,
   "metadata": {},
   "outputs": [],
   "source": [
    "import math\n",
    "\n",
    "import serial\n",
    "import msgpack\n",
    "import tqdm\n",
    "import pandas as pd\n",
    "import numpy as np\n",
    "import seaborn as sns\n",
    "import scipy.interpolate as interp\n",
    "import scipy.signal as signal\n",
    "import matplotlib.pyplot as plt\n",
    "\n",
    "# Enable \"widget\" mode for matplotlib\n",
    "%matplotlib widget"
   ]
  },
  {
   "cell_type": "code",
   "execution_count": null,
   "metadata": {
    "tags": []
   },
   "outputs": [],
   "source": [
    "# Configure Serial port with 100 ms timeout\n",
    "ser = serial.Serial('COM3', timeout=0.1)\n",
    "\n",
    "# Configure msgpack unpacker for data stream decode\n",
    "unpacker = msgpack.Unpacker(raw=False)\n",
    "data_list = []\n",
    "\n",
    "###########################################################################################################\n",
    "# This loop will never end, interrupt the kernel in Jupyter lab when you have taken enough data to continue\n",
    "###########################################################################################################\n",
    "while True:\n",
    "    # Read some bytes in\n",
    "    buf = ser.read(256)\n",
    "\n",
    "    if not buf:\n",
    "        # Try again later\n",
    "        continue\n",
    "\n",
    "    # Feed data to deserialization\n",
    "    unpacker.feed(buf)\n",
    "\n",
    "    try:\n",
    "        # Process new objects\n",
    "        for obj in unpacker:\n",
    "            if not isinstance(obj, dict):\n",
    "                # We only want the dicts!\n",
    "                print(f'rejecting: {obj}')\n",
    "                break\n",
    "\n",
    "            if 'debug' in obj:\n",
    "                # Debug message, display it but don't save it\n",
    "                print(f'DEBUG: {obj}')\n",
    "            else:\n",
    "                # Save data\n",
    "                data_list.append(obj)\n",
    "    except (msgpack.ExtraData, msgpack.OutOfData, msgpack.FormatError, msgpack.StackError, UnicodeDecodeError) as ex:\n",
    "        # These should all be (maybe?) ok?\n",
    "        print(f'Something went wrong, but it is probably fine: {ex}')\n",
    "        continue"
   ]
  },
  {
   "cell_type": "code",
   "execution_count": null,
   "metadata": {},
   "outputs": [],
   "source": [
    "len(data_list)"
   ]
  },
  {
   "cell_type": "code",
   "execution_count": null,
   "metadata": {},
   "outputs": [],
   "source": [
    "# Make dataframe\n",
    "df = pd.DataFrame(data_list)\n",
    "df['t'] -= df.t.iloc[0]  # Remove bias, create elapsed time\n",
    "fs = 1.0/(df[\"t\"].diff().mean())  # Average ODR\n",
    "\n",
    "# Make sure the timing looks reasonable\n",
    "df['t'].diff().plot()\n",
    "\n",
    "# Calculate resistance and power from voltage and current\n",
    "df['r'] = df['v'] / df['i']\n",
    "df['p'] = df['v'] * df['i']"
   ]
  },
  {
   "cell_type": "code",
   "execution_count": null,
   "metadata": {},
   "outputs": [],
   "source": [
    "# Some extra info\n",
    "print(f'fs: {fs} hz\\n')\n",
    "display(df['t'].diff().describe())"
   ]
  },
  {
   "cell_type": "code",
   "execution_count": null,
   "metadata": {},
   "outputs": [],
   "source": [
    "# Shift t=0 to the start of the puff (first time when power > half the max power in the data)\n",
    "df.t -= df[df.p.gt(df.p.max() / 2.0)].t.iloc[0]\n",
    "df['t_quant'] = df.t.round(1)  # Quantized time to 10 Hz"
   ]
  },
  {
   "cell_type": "code",
   "execution_count": null,
   "metadata": {},
   "outputs": [],
   "source": [
    "# Materials reference tables\n",
    "MATERIAL_REF = {\n",
    "    'tcr': {\n",
    "#         'ss316l': 879*10**-6  # delta_r/r per degree Celsius  # From Steam Engine calculator\n",
    "        'ss316l': 920*10**-6,  # delta_r/r per degree Celsius\n",
    "    },\n",
    "    'tfr': {\n",
    "        # list(tuple()) with form [(t1, rr1), (t2, rr2), ...] with:\n",
    "        #      t = temperature in Celsius\n",
    "        #     rr = resistance ratio of measured_resistance / reference_resistance\n",
    "        'ss316l': [  # From Arctic Fox/Steam Engine\n",
    "            (-40, 0.93474),\n",
    "            ( 20, 1.00000),\n",
    "            ( 50, 1.03000),\n",
    "            (100, 1.08000),\n",
    "            (150, 1.12600),\n",
    "            (200, 1.16800),\n",
    "            (250, 1.20700),\n",
    "            (300, 1.24600),\n",
    "            (425, 1.33700),\n",
    "        ],\n",
    "    },\n",
    "}\n",
    "\n",
    "ESCC_COLD_RES_TCR_REF = {\n",
    "    'ecss_v1': [\n",
    "        # list(tuple()) with form [(tcr1, r1), (tcr2, r2), ...] with:\n",
    "        #     tcr = Temperature Coefficent of Resistance * 10^5 (unitless)\n",
    "        #       r = Cold resistance in Ohms\n",
    "        # Data from: https://www.reddit.com/r/AdvancedVapeSupply/comments/iszh2f/escc_tcr_chart_and_update_about_the_escc/\n",
    "        (200, 0.40),\n",
    "        (185, 0.45),\n",
    "        (170, 0.50),\n",
    "        (155, 0.55),\n",
    "        (145, 0.60),\n",
    "        (138, 0.65),\n",
    "        (130, 0.70),\n",
    "        (120, 0.75),\n",
    "        (110, 0.80),\n",
    "        (100, 0.85),\n",
    "        ( 85, 0.90),\n",
    "        ( 70, 0.95),\n",
    "        ( 50, 1.00),\n",
    "        ( 25, 1.05),\n",
    "        (  5, 1.10),\n",
    "    ],\n",
    "}"
   ]
  },
  {
   "cell_type": "code",
   "execution_count": null,
   "metadata": {},
   "outputs": [],
   "source": [
    "def resratio_to_temp(t_cold=None, material='ss316l', method='tfr'):\n",
    "    \"\"\" Converts resistance ratio into temperature for a material with a known TCR or TFR.\n",
    "\n",
    "    Args:\n",
    "        t_cold (float): The cold coil reference temperature, in Celsius. Only used for TCR and is 20 C if None. Optional.\n",
    "        material (float, list, or str): Material TCR float in delta_r/r per degree Celsius,\n",
    "                                        material TFG list of tuples of temp in Celsius and resistance ratio,\n",
    "                                        or str of material for TCR and TFR to look up.\n",
    "        method (str): Method to use for conversion, must be one of ['tcr', 'tfr']. Optional.\n",
    "\n",
    "    Returns:\n",
    "        Function object:\n",
    "            Args:\n",
    "                rr (array-like): Resistance ratio(s) to convert to a temperature\n",
    "            Returns:\n",
    "                np.ndarray to temperatures in Celsius\n",
    "    \"\"\"\n",
    "    if method not in ['tcr', 'tfr']:\n",
    "        raise NotImplementedError(f'Unimplemented method: {method}')\n",
    "\n",
    "    if (t_cold is not None) and (method != 'tcr'):\n",
    "        raise ValueError(f't_cold is only useable for tcr method')\n",
    "\n",
    "    if isinstance(material, str):\n",
    "        # Look up material properties from string\n",
    "        material = MATERIAL_REF[method][material]\n",
    "\n",
    "    if method == 'tcr':\n",
    "        # Temperature Coefficient of Resistance method\n",
    "        t_cold = 20.0 if t_cold is None else t_cold  # Default t_cold is 20 C\n",
    "        temp_func = lambda rr, t_cold=t_cold, material=material: np.asarray(t_cold + ((np.asarray(rr) - 1.0) / material))\n",
    "    elif method == 'tfr':\n",
    "        # Temperature Function of Resistance method, cubic spline interpolation\n",
    "        temp, rr = tuple(zip(*material))\n",
    "        temp_func = interp.CubicSpline(rr, temp, bc_type='natural')\n",
    "    else:\n",
    "        raise RuntimeError('The matrix is glitching again')\n",
    "\n",
    "    return temp_func\n",
    "\n",
    "def coldres_to_tcr(material='escc_v1'):\n",
    "    \"\"\" Converts cold resistance into temperature for a material with a known TCR or TFR.\n",
    "\n",
    "    Args:\n",
    "        material (float, list, or str): Material TCR list of tuples of TCR (unitless) and cold resistance in Ohms,\n",
    "                                        or str of material name to look up.\n",
    "\n",
    "    Returns:\n",
    "        Function object:\n",
    "            Args:\n",
    "                r_cold (array-like): Reference cold resistance to convert to a TCR\n",
    "            Returns:\n",
    "                np.ndarray to TCR (unitless)\n",
    "    \"\"\"\n",
    "    if isinstance(material, str):\n",
    "        # Look up material properties from string\n",
    "        material = MATERIAL_REF[method][material]\n",
    "\n",
    "    if method == 'tcr':\n",
    "        # Temperature Coefficient of Resistance method\n",
    "        t_cold = 20.0 if t_cold is None else t_cold  # Default t_cold is 20 C\n",
    "        temp_func = lambda rr, t_cold=t_cold, material=material: np.asarray(t_cold + ((np.asarray(rr) - 1.0) / material))\n",
    "    elif method == 'tfr':\n",
    "        # Temperature Function of Resistance method, cubic spline interpolation\n",
    "        temp, rr = tuple(zip(*material))\n",
    "        temp_func = interp.CubicSpline(rr, temp, bc_type='natural')\n",
    "    else:\n",
    "        raise RuntimeError('The matrix is glitching again')\n",
    "\n",
    "    return temp_func"
   ]
  },
  {
   "cell_type": "code",
   "execution_count": null,
   "metadata": {},
   "outputs": [],
   "source": [
    "r_cold = 0.390  # Cold coil resistance in Ohms, TODO: Automate this\n",
    "\n",
    "# Calculate temp of heating element, clip outout values to \"realistic\" temps\n",
    "t_func = resratio_to_temp(material='ss316l', method='tfr')\n",
    "df['temp'] = t_func(df.r / r_cold)\n",
    "df['temp'] = df.temp.fillna(0.0).clip(0.0, 300.0)"
   ]
  },
  {
   "cell_type": "code",
   "execution_count": null,
   "metadata": {},
   "outputs": [],
   "source": [
    "df.plot(y='r', x='t', xlim=(0.0, 10.0), ylim=(0.0,2.0))"
   ]
  },
  {
   "cell_type": "code",
   "execution_count": null,
   "metadata": {},
   "outputs": [],
   "source": [
    "df.plot(y=['v', 'i', 'p'], x='t', xlim=(0.0, 10.0))"
   ]
  },
  {
   "cell_type": "code",
   "execution_count": null,
   "metadata": {},
   "outputs": [],
   "source": [
    "# plt.figure(figsize=(32,18))\n",
    "# pp = sns.lineplot(data=df, x='t', y='temp')\n",
    "# pp.set(xlim=(0,10))\n",
    "# # pp.set(ylim=(0.0, 50.0))\n",
    "df.plot(y='temp', x='t', xlim=(0.0, 10.0))"
   ]
  },
  {
   "cell_type": "code",
   "execution_count": null,
   "metadata": {},
   "outputs": [],
   "source": [
    "pp = sns.relplot(data=df, x='t_quant', y='temp', kind='line', height=16)\n",
    "pp.set(xlabel='Puff Time (s)', ylabel='Temperature (C)', title=f'Temperature mean and CI.')\n",
    "plt.grid(b=True)\n",
    "# pp.set(ylim=(0.4, 0.48))\n",
    "pp.set(xlim=(-2,10))\n",
    "plt.show()"
   ]
  },
  {
   "cell_type": "code",
   "execution_count": null,
   "metadata": {},
   "outputs": [],
   "source": [
    "desired_fs = 10.0\n",
    "decimation_ratio = math.floor(fs / desired_fs)\n",
    "\n",
    "actual_fs = fs / decimation_ratio\n",
    "\n",
    "print(f'Decimation ratio: {decimation_ratio}')\n",
    "print(f'Actual fs: {actual_fs} Hz')"
   ]
  },
  {
   "cell_type": "code",
   "execution_count": null,
   "metadata": {},
   "outputs": [],
   "source": [
    "decimated_df = df[df.t.between(-0.0, 9.9)]\n",
    "# decimated_df = df\n",
    "decimated_df = decimated_df.apply(lambda x: signal.decimate(x, decimation_ratio, ftype='fir'), axis='index')#, raw=True)\n",
    "decimated_df = decimated_df.drop('t_quant', axis='columns')\n",
    "decimated_df = decimated_df.assign(t=np.arange(len(decimated_df))/actual_fs)\n",
    "\n",
    "decimated_df['r_post'] = decimated_df.v / decimated_df.i\n",
    "decimated_df"
   ]
  },
  {
   "cell_type": "code",
   "execution_count": null,
   "metadata": {},
   "outputs": [],
   "source": [
    "plt.figure(figsize=(32,18))\n",
    "pp = sns.lineplot(data=decimated_df, x='t', y='temp')#, kind='line', height=16)\n",
    "pp.set(xlabel='Time (s)', ylabel='Temperature (C)', title=f'Decimated Temperature.')\n",
    "plt.grid(b=True)\n",
    "# pp.set(ylim=(195, 205))\n",
    "# pp.set(xlim=(0.0, 10.0))\n",
    "plt.show()"
   ]
  },
  {
   "cell_type": "code",
   "execution_count": null,
   "metadata": {},
   "outputs": [],
   "source": []
  },
  {
   "cell_type": "code",
   "execution_count": null,
   "metadata": {},
   "outputs": [],
   "source": [
    "# Find values where power < 1.0 Watts\n",
    "valid_mask = df.p.gt(1.0)\n",
    "for i in range(1, len(valid_mask) - 1):\n",
    "    if not valid_mask[i]:\n",
    "        # Also remove the last value in every series of values over 1.0 Watts since it is noisy\n",
    "        # TODO: Can this be improved?\n",
    "        valid_mask[i-1] = False\n",
    "\n",
    "# Valid data based on mask\n",
    "df_valid = df[valid_mask]"
   ]
  },
  {
   "cell_type": "code",
   "execution_count": null,
   "metadata": {},
   "outputs": [],
   "source": [
    "df_valid.plot(y=['i', 'v', 'r'], x='t', xlim=(0.0, 10.0), style='.-')"
   ]
  },
  {
   "cell_type": "code",
   "execution_count": null,
   "metadata": {},
   "outputs": [],
   "source": [
    "df_valid.plot(x='t', y='temp', style='.-')"
   ]
  },
  {
   "cell_type": "code",
   "execution_count": null,
   "metadata": {},
   "outputs": [],
   "source": [
    "pp = sns.relplot(data=df_valid, x='t_quant', y='temp', kind='line', height=16)\n",
    "pp.set(xlabel='Puff Time (s)', ylabel='Temperature (C)', title=f'Temperature mean and CI.')\n",
    "plt.grid(b=True)\n",
    "# pp.set(ylim=(210, 225))\n",
    "# pp.set(xlim=(0,10))\n",
    "plt.show()"
   ]
  },
  {
   "cell_type": "code",
   "execution_count": null,
   "metadata": {},
   "outputs": [],
   "source": [
    "pp = sns.relplot(data=df_valid, x='t_quant', y='temp', kind='line', height=16)\n",
    "pp.set(xlabel='Puff Time (s)', ylabel='Temperature (C)', title=f'Temperature mean and CI.')\n",
    "plt.grid(b=True)\n",
    "pp.set(ylim=(220, 240))\n",
    "pp.set(xlim=(-2,15))\n",
    "plt.show()"
   ]
  },
  {
   "cell_type": "code",
   "execution_count": null,
   "metadata": {},
   "outputs": [],
   "source": []
  },
  {
   "cell_type": "code",
   "execution_count": null,
   "metadata": {},
   "outputs": [],
   "source": []
  },
  {
   "cell_type": "code",
   "execution_count": null,
   "metadata": {},
   "outputs": [],
   "source": []
  },
  {
   "cell_type": "code",
   "execution_count": null,
   "metadata": {},
   "outputs": [],
   "source": [
    "# save df to a csv file\n",
    "df.to_csv('m22_octo_gg_p600i20.csv')"
   ]
  },
  {
   "cell_type": "code",
   "execution_count": null,
   "metadata": {},
   "outputs": [],
   "source": [
    "# read df from a csv file\n",
    "df = pd.read_csv('m22_octo_gg_p300i20.csv')"
   ]
  },
  {
   "cell_type": "code",
   "execution_count": null,
   "metadata": {},
   "outputs": [],
   "source": []
  },
  {
   "cell_type": "code",
   "execution_count": null,
   "metadata": {},
   "outputs": [],
   "source": []
  },
  {
   "cell_type": "code",
   "execution_count": null,
   "metadata": {},
   "outputs": [],
   "source": []
  },
  {
   "cell_type": "code",
   "execution_count": null,
   "metadata": {},
   "outputs": [],
   "source": []
  },
  {
   "cell_type": "code",
   "execution_count": null,
   "metadata": {},
   "outputs": [],
   "source": []
  },
  {
   "cell_type": "code",
   "execution_count": null,
   "metadata": {},
   "outputs": [],
   "source": [
    "# Comparing GG to AF data\n",
    "df_af = pd.read_csv('m22_af.csv')\n",
    "df_af.Time -= df_af[df_af.Power.gt(df_af.Power.max() / 2.0)].Time.iloc[0]\n",
    "df_af"
   ]
  },
  {
   "cell_type": "code",
   "execution_count": null,
   "metadata": {},
   "outputs": [],
   "source": [
    "df_af['temp_c'] = 5.0 / 9.0 *(df_af.Temperature - 32.0)\n",
    "\n",
    "plt.figure(figsize=(32,18))\n",
    "pp = sns.lineplot(data=decimated_df, x='t', y='temp')#, kind='line', height=16)\n",
    "sns.lineplot(data=df_af, x='Time', y='temp_c', ax=pp)#, kind='line', height=16)\n",
    "pp.set(xlabel='Time (s)', ylabel='Temperature (C)', title=f'AF temp and decimated GG temp, M22 Octo-coil.')\n",
    "plt.grid(b=True)\n",
    "# pp.set(ylim=(0.46, 0.48))\n",
    "pp.set(xlim=(0,10))\n",
    "plt.show()"
   ]
  },
  {
   "cell_type": "code",
   "execution_count": null,
   "metadata": {},
   "outputs": [],
   "source": []
  },
  {
   "cell_type": "code",
   "execution_count": null,
   "metadata": {},
   "outputs": [],
   "source": [
    "df_valid['settings'] = 'p600_i20'\n",
    "df_valid4 = df_valid"
   ]
  },
  {
   "cell_type": "code",
   "execution_count": null,
   "metadata": {},
   "outputs": [],
   "source": [
    "df_valid['settings'] = 'no_pi'\n",
    "df_valid2 = df_valid"
   ]
  },
  {
   "cell_type": "code",
   "execution_count": null,
   "metadata": {},
   "outputs": [],
   "source": [
    "df_valid['settings'] = 'p300_i20'\n",
    "df_valid3 = df_valid"
   ]
  },
  {
   "cell_type": "code",
   "execution_count": null,
   "metadata": {},
   "outputs": [],
   "source": [
    "df_valid['settings'] = 'p300_i10'\n",
    "df_valid1 = df_valid"
   ]
  },
  {
   "cell_type": "code",
   "execution_count": null,
   "metadata": {},
   "outputs": [],
   "source": [
    "df_valid_all = pd.concat([df_valid1, df_valid2, df_valid3, df_valid4])"
   ]
  },
  {
   "cell_type": "code",
   "execution_count": null,
   "metadata": {},
   "outputs": [],
   "source": [
    "pp = sns.relplot(data=df_valid_all, x='t_quant', y='temp', kind='line', hue='settings', height=12)\n",
    "pp.set(xlabel='Puff Time (s)', ylabel='Temperature (C)', title=f'Temperature mean and CI.')\n",
    "plt.grid(b=True)\n",
    "pp.set(ylim=(200, 250))\n",
    "pp.set(xlim=(0,10))\n",
    "plt.show()"
   ]
  },
  {
   "cell_type": "code",
   "execution_count": null,
   "metadata": {},
   "outputs": [],
   "source": [
    "pp = sns.relplot(data=df_valid_all, x='t_quant', y='p', kind='line', hue='settings', height=12)\n",
    "pp.set(xlabel='Puff Time (s)', ylabel='Temperature (C)', title=f'Temperature mean and CI.')\n",
    "plt.grid(b=True)\n",
    "# pp.set(ylim=(200, 250))\n",
    "pp.set(xlim=(-2,15))\n",
    "plt.show()"
   ]
  },
  {
   "cell_type": "code",
   "execution_count": null,
   "metadata": {},
   "outputs": [],
   "source": [
    "pp = sns.relplot(data=df_valid_all, x='t_quant', y='temp', kind='line', hue='settings', height=12)\n",
    "pp.set(xlabel='Puff Time (s)', ylabel='Temperature (C)', title=f'Temperature mean and CI.')\n",
    "plt.grid(b=True)\n",
    "# pp.set(ylim=(200, 250))\n",
    "pp.set(xlim=(-2,15))\n",
    "plt.show()"
   ]
  },
  {
   "cell_type": "code",
   "execution_count": null,
   "metadata": {},
   "outputs": [],
   "source": []
  },
  {
   "cell_type": "code",
   "execution_count": null,
   "metadata": {},
   "outputs": [],
   "source": []
  },
  {
   "cell_type": "code",
   "execution_count": null,
   "metadata": {},
   "outputs": [],
   "source": [
    "t_func(1.17)"
   ]
  },
  {
   "cell_type": "code",
   "execution_count": null,
   "metadata": {},
   "outputs": [],
   "source": [
    "t_func(1.17+0.003)"
   ]
  },
  {
   "cell_type": "code",
   "execution_count": null,
   "metadata": {},
   "outputs": [],
   "source": []
  }
 ],
 "metadata": {
  "kernelspec": {
   "display_name": "Python (discord)",
   "language": "python",
   "name": "discord"
  },
  "language_info": {
   "codemirror_mode": {
    "name": "ipython",
    "version": 3
   },
   "file_extension": ".py",
   "mimetype": "text/x-python",
   "name": "python",
   "nbconvert_exporter": "python",
   "pygments_lexer": "ipython3",
   "version": "3.7.6-final"
  }
 },
 "nbformat": 4,
 "nbformat_minor": 4
}
